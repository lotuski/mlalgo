{
 "cells": [
  {
   "cell_type": "code",
   "execution_count": 1,
   "metadata": {
    "collapsed": false
   },
   "outputs": [],
   "source": [
    "import pandas as pd\n",
    "\n",
    "input_dir = '/data/arpit.goel/16_WDInactive/'\n",
    "input_file = 'get_spend_2_sel.csv'\n",
    "df = pd.read_csv(input_dir+input_file,delimiter='|')\n",
    "\n"
   ]
  },
  {
   "cell_type": "code",
   "execution_count": 42,
   "metadata": {
    "collapsed": false
   },
   "outputs": [
    {
     "data": {
      "text/plain": [
       "['XTRA_CARD_NBR',\n",
       " 'HH_ID',\n",
       " 'MAILER_ID',\n",
       " 'CTL_GRP_IND',\n",
       " 'REDEEM_ACTL_DT',\n",
       " 'segment_now',\n",
       " 'segment_pre6',\n",
       " 'segment_pre12',\n",
       " 'tenure',\n",
       " 'pred_tgt_DYN_pre3',\n",
       " 'pred_tgt_DYN_now',\n",
       " 'WTS_CLUSTER_201601',\n",
       " 'timediff',\n",
       " 'coupon_depth',\n",
       " 'FS_SCAN_AMT_PRE',\n",
       " 'FS_SCAN_AMT_POST',\n",
       " 'RED_AMT',\n",
       " 'COUPON_DEPTH_BUCKET',\n",
       " 'DYN_SCORE_BINS_PRE3',\n",
       " 'COUNT_CARDS',\n",
       " 'RDM_IND',\n",
       " 'COUNT_RDM',\n",
       " 'COUPON_USED_FLAG']"
      ]
     },
     "execution_count": 42,
     "metadata": {},
     "output_type": "execute_result"
    }
   ],
   "source": [
    "df_test_raw = df[df['CTL_GRP_IND']==0]\n",
    "df_test = df_test_raw.sample(n=1000000)\n",
    "df_test = df_test[df_test['coupon_depth'].fillna(0)>-0.035]\n",
    "df_test.columns.tolist()\n",
    "\n"
   ]
  },
  {
   "cell_type": "code",
   "execution_count": 43,
   "metadata": {
    "collapsed": false
   },
   "outputs": [],
   "source": [
    "df_test1  = pd.concat([df_test,pd.get_dummies(df_test['segment_pre6'],prefix='SEGMENT_PRE6')],axis=1)\n",
    "df_test2  = pd.concat([df_test1,pd.get_dummies(df_test['segment_pre12'],prefix='SEGMENT_PRE12')],axis=1)\n",
    "df_test3  = pd.concat([df_test2,pd.get_dummies(df_test['WTS_CLUSTER_201601'],prefix='WTS_CLUSTER')],axis=1)\n"
   ]
  },
  {
   "cell_type": "code",
   "execution_count": 58,
   "metadata": {
    "collapsed": false
   },
   "outputs": [],
   "source": [
    "df_test3['SEGMENT_PRE6_TOP4'] = df_test3['segment_pre6'].map(lambda x: 1 if x in ['ECE','CRX','FFL','YBE'] else 0)\n",
    "df_test3['SEGMENT_PRE12_TOP4'] = df_test3['segment_pre12'].map(lambda x: 1 if x in ['ECE','CRX','FFL','YBE'] else 0)\n",
    "df_test3['SEGMENT_PRE6_TOP7'] = df_test3['segment_pre6'].map(lambda x: 1 if x in ['ECE','CRX','FFL','YBE','In&Out','ABB','CSS'] else 0)\n",
    "df_test3['SEGMENT_PRE12_TOP7'] = df_test3['segment_pre12'].map(lambda x: 1 if x in ['ECE','CRX','FFL','YBE','In&Out','ABB','CSS'] else 0)\n",
    "\n",
    "df_test3['SEGMENT_PRE6_BOTTOM6'] = df_test3['segment_pre6'].map(lambda x: 1 if x in ['One and Done','Unengaged','ECS','In&Out','ABB','CSS'] else 0)\n",
    "df_test3['SEGMENT_PRE12_BOTTOM6'] = df_test3['segment_pre12'].map(lambda x: 1 if x in ['One and Done','Unengaged','ECS','In&Out','ABB','CSS'] else 0)\n",
    "df_test3['SEGMENT_PRE6_BOTTOM3'] = df_test3['segment_pre6'].map(lambda x: 1 if x in ['One and Done','Unengaged','ECS'] else 0)\n",
    "df_test3['SEGMENT_PRE12_BOTTOM3'] = df_test3['segment_pre12'].map(lambda x: 1 if x in ['One and Done','Unengaged','ECS'] else 0)\n",
    "\n",
    "df_test3['WTS_PERS'] = df_test3['WTS_CLUSTER_201601'].fillna('00').map(lambda x: 1 if x[:2] in ['01','02','03']  else 0)\n",
    "df_test3['WTS_MASS'] = df_test3['WTS_CLUSTER_201601'].fillna('00').map(lambda x: 1 if x[:2] in ['04','05','06','07','08']  else 0)\n",
    "\n",
    "df_test3['REDEEM_IND'] = (df_test3['RED_AMT'].fillna(0) < 0)\n",
    "\n",
    "df_test3['COUPON_USED_FLAG'] = (df_test3['coupon_depth'].fillna(0) < 0).astype(np.int64)\n",
    "df_test3['DYN_SCORE_BINS_PRE3'] = (df_test3['pred_tgt_DYN_pre3'].fillna(0) < 0.01).astype(np.int64)\n"
   ]
  },
  {
   "cell_type": "code",
   "execution_count": 68,
   "metadata": {
    "collapsed": false
   },
   "outputs": [
    {
     "name": "stdout",
     "output_type": "stream",
     "text": [
      "['COUPON_USED_FLAG', 'DYN_SCORE_BINS_PRE3', 'WTS_PERS', 'WTS_MASS']\n"
     ]
    }
   ],
   "source": [
    "'''\n",
    "# 'tenure',\n",
    "# 'coupon_depth',                                                   \\\n",
    " 'SEGMENT_PRE12_ABB',                                              \\\n",
    " 'SEGMENT_PRE12_CRX',                                              \\\n",
    " 'SEGMENT_PRE12_CSS',                                              \\\n",
    " 'SEGMENT_PRE12_ECE',                                              \\\n",
    " 'SEGMENT_PRE12_ECS',                                              \\\n",
    " 'SEGMENT_PRE12_FFL',                                              \\\n",
    " 'SEGMENT_PRE12_In&Out',                                           \\\n",
    " 'SEGMENT_PRE12_One and Done',                                     \\\n",
    " 'SEGMENT_PRE12_Unengaged',                                        \\\n",
    " 'SEGMENT_PRE12_YBE',                                              \\\n",
    " 'SEGMENT_PRE12_TOP4',                                             \\\n",
    " 'SEGMENT_PRE12_TOP7',                                             \\\n",
    " 'SEGMENT_PRE12_BOTTOM3',                                          \\\n",
    " 'SEGMENT_PRE12_BOTTOM6',                                          \\\n",
    " 'SEGMENT_PRE6_ECS',                                               \\\n",
    " 'pred_tgt_DYN_pre3',                                              \\\n",
    " 'SEGMENT_PRE6_ABB',                                               \\\n",
    " 'SEGMENT_PRE6_CRX',                                               \\\n",
    " 'SEGMENT_PRE6_CSS',                                               \\\n",
    " 'SEGMENT_PRE6_ECE',                                               \\\n",
    " 'SEGMENT_PRE6_FFL',                                               \\\n",
    " 'SEGMENT_PRE6_In&Out',                                            \\\n",
    " 'SEGMENT_PRE6_One and Done',                                      \\\n",
    " 'SEGMENT_PRE6_Unengaged',                                         \\\n",
    " 'SEGMENT_PRE6_YBE',                                               \\\n",
    " 'WTS_CLUSTER_01_Personalized(EM)',                                \\\n",
    " 'WTS_CLUSTER_02_All ways to save mass+pers (full store FS+Rx)',   \\\n",
    " 'WTS_CLUSTER_03_Personalized (TCM)',                              \\\n",
    " 'WTS_CLUSTER_04_Mass Savers',                                     \\\n",
    " 'WTS_CLUSTER_05_Mass, PHR(RX)',                                   \\\n",
    " 'WTS_CLUSTER_06_Mass, All Ebs',                                   \\\n",
    " 'WTS_CLUSTER_07_Mass, Convenience(QEB)',                          \\\n",
    " 'WTS_CLUSTER_08_Mass, CEB lovers',                                \\\n",
    " 'SEGMENT_PRE6_TOP4',                                              \\\n",
    " 'SEGMENT_PRE6_TOP7',                                              \\\n",
    " 'SEGMENT_PRE6_BOTTOM3',                                           \\\n",
    " 'SEGMENT_PRE6_BOTTOM6',                                           \\\n",
    " \n",
    "'''\n",
    "inputcolumns = [                                                         \\\n",
    " 'COUPON_USED_FLAG',                                                \\\n",
    " 'DYN_SCORE_BINS_PRE3',                                             \\\n",
    " 'WTS_PERS',                                                       \\\n",
    " 'WTS_MASS'                         \n",
    "               ]\n",
    "\n",
    "target = 'REDEEM_IND'\n",
    "print inputcolumns"
   ]
  },
  {
   "cell_type": "code",
   "execution_count": 69,
   "metadata": {
    "collapsed": false,
    "scrolled": false
   },
   "outputs": [],
   "source": [
    "from sklearn import tree\n",
    "\n",
    "clf = tree.DecisionTreeRegressor(max_depth=4,min_samples_split=10000, min_samples_leaf=5000,random_state=123)\n",
    "clf = clf.fit(df_test3[inputcolumns].fillna(0), df_test3[target])\n",
    "\n",
    "tree.export_graphviz(clf, out_file=input_dir+'tree.dot',feature_names=inputcolumns,\\\n",
    "                         filled=True, rounded=True,special_characters=True)  \n"
   ]
  },
  {
   "cell_type": "code",
   "execution_count": 47,
   "metadata": {
    "collapsed": false
   },
   "outputs": [
    {
     "name": "stdout",
     "output_type": "stream",
     "text": [
      "(822153, 69)\n"
     ]
    }
   ],
   "source": [
    "print df_test3.shape"
   ]
  },
  {
   "cell_type": "code",
   "execution_count": 16,
   "metadata": {
    "collapsed": false,
    "scrolled": true
   },
   "outputs": [
    {
     "data": {
      "text/plain": [
       "['XTRA_CARD_NBR',\n",
       " 'HH_ID',\n",
       " 'MAILER_ID',\n",
       " 'CTL_GRP_IND',\n",
       " 'REDEEM_ACTL_DT',\n",
       " 'segment_now',\n",
       " 'segment_pre6',\n",
       " 'segment_pre12',\n",
       " 'tenure',\n",
       " 'pred_tgt_DYN_pre3',\n",
       " 'pred_tgt_DYN_now',\n",
       " 'WTS_CLUSTER_201601',\n",
       " 'timediff',\n",
       " 'coupon_depth',\n",
       " 'FS_SCAN_AMT_PRE',\n",
       " 'FS_SCAN_AMT_POST',\n",
       " 'RED_AMT',\n",
       " 'COUPON_DEPTH_BUCKET',\n",
       " 'DYN_SCORE_BINS_PRE3']"
      ]
     },
     "execution_count": 16,
     "metadata": {},
     "output_type": "execute_result"
    }
   ],
   "source": [
    "df_test.columns.tolist()"
   ]
  },
  {
   "cell_type": "code",
   "execution_count": 75,
   "metadata": {
    "collapsed": false
   },
   "outputs": [],
   "source": [
    "import numpy as np\n",
    "df['segment_pre6'] = df['segment_pre6'].fillna('00.Missing')\n",
    "df['segment_now'] = df['segment_now'].fillna('00.Missing')\n",
    "df['COUPON_USED_FLAG'] = (df['coupon_depth'].fillna(0) < 0).astype(np.int64)\n",
    "df['COUPON_DEPTH_BUCKET'] = pd.cut(df['coupon_depth'].fillna(0),bins=[-10,-0.1,-0.035,0],labels=['2.>10%','1.(3.5%,10%]','0.<=3.5%'])\n",
    "df['DYN_SCORE_BINS_PRE3'] = pd.cut(df['pred_tgt_DYN_pre3'].fillna(0.0001),bins=[0,0.01,2],labels=['0.<0.01','1.>=0.01'])\n",
    "df['WTS_MASS'] = df['WTS_CLUSTER_201601'].fillna('00').map(lambda x: 1 if x[:2] in ['04','05','06','07','08']  else 0)\n",
    "df['COUNT_CARDS'] = 1\n",
    "df['RDM_IND']  = (df['RED_AMT'].fillna(0) < 0).astype(np.int64)\n",
    "df['COUNT_RDM']  = (df['RED_AMT'].fillna(0) < 0).astype(np.int64)\n",
    "dimensions = ['MAILER_ID','CTL_GRP_IND','WTS_MASS','COUPON_DEPTH_BUCKET','DYN_SCORE_BINS_PRE3','RDM_IND','COUPON_USED_FLAG']\n",
    "metrics = ['COUNT_CARDS','COUNT_RDM', 'FS_SCAN_AMT_PRE','FS_SCAN_AMT_POST','RED_AMT']\n",
    "df.groupby(dimensions)[metrics].sum().fillna(0).to_csv(input_dir+'profile1.csv')"
   ]
  },
  {
   "cell_type": "code",
   "execution_count": 73,
   "metadata": {
    "collapsed": false
   },
   "outputs": [
    {
     "data": {
      "text/plain": [
       "MAILER_ID                     0\n",
       "CTL_GRP_IND                   0\n",
       "WTS_MASS                      0\n",
       "COUPON_DEPTH_BUCKET           0\n",
       "DYN_SCORE_BINS_PRE3           0\n",
       "RDM_IND                       0\n",
       "COUNT_CARDS                   0\n",
       "COUNT_RDM                     0\n",
       "FS_SCAN_AMT_PRE        20056042\n",
       "FS_SCAN_AMT_POST       20056042\n",
       "RED_AMT                23992991\n",
       "dtype: int64"
      ]
     },
     "execution_count": 73,
     "metadata": {},
     "output_type": "execute_result"
    }
   ],
   "source": [
    "dimensions = ['MAILER_ID','CTL_GRP_IND','WTS_MASS','COUPON_DEPTH_BUCKET','DYN_SCORE_BINS_PRE3','RDM_IND']\n",
    "metrics = ['COUNT_CARDS','COUNT_RDM', 'FS_SCAN_AMT_PRE','FS_SCAN_AMT_POST','RED_AMT']\n",
    "df[dimensions+metrics].isnull().sum()"
   ]
  },
  {
   "cell_type": "code",
   "execution_count": 35,
   "metadata": {
    "collapsed": false
   },
   "outputs": [
    {
     "data": {
      "text/html": [
       "<div>\n",
       "<table border=\"1\" class=\"dataframe\">\n",
       "  <thead>\n",
       "    <tr style=\"text-align: right;\">\n",
       "      <th></th>\n",
       "      <th>coupon_depth</th>\n",
       "      <th>pred_tgt_DYN_pre3</th>\n",
       "    </tr>\n",
       "  </thead>\n",
       "  <tbody>\n",
       "    <tr>\n",
       "      <th>count</th>\n",
       "      <td>24021135.000000</td>\n",
       "      <td>19831943.000000</td>\n",
       "    </tr>\n",
       "    <tr>\n",
       "      <th>mean</th>\n",
       "      <td>-0.030837</td>\n",
       "      <td>0.007840</td>\n",
       "    </tr>\n",
       "    <tr>\n",
       "      <th>std</th>\n",
       "      <td>0.093203</td>\n",
       "      <td>0.014742</td>\n",
       "    </tr>\n",
       "    <tr>\n",
       "      <th>min</th>\n",
       "      <td>-3.200000</td>\n",
       "      <td>0.003267</td>\n",
       "    </tr>\n",
       "    <tr>\n",
       "      <th>25%</th>\n",
       "      <td>-0.006241</td>\n",
       "      <td>0.004771</td>\n",
       "    </tr>\n",
       "    <tr>\n",
       "      <th>50%</th>\n",
       "      <td>0.000000</td>\n",
       "      <td>0.006186</td>\n",
       "    </tr>\n",
       "    <tr>\n",
       "      <th>75%</th>\n",
       "      <td>0.000000</td>\n",
       "      <td>0.007768</td>\n",
       "    </tr>\n",
       "    <tr>\n",
       "      <th>max</th>\n",
       "      <td>0.000000</td>\n",
       "      <td>0.352246</td>\n",
       "    </tr>\n",
       "  </tbody>\n",
       "</table>\n",
       "</div>"
      ],
      "text/plain": [
       "          coupon_depth  pred_tgt_DYN_pre3\n",
       "count  24021135.000000    19831943.000000\n",
       "mean         -0.030837           0.007840\n",
       "std           0.093203           0.014742\n",
       "min          -3.200000           0.003267\n",
       "25%          -0.006241           0.004771\n",
       "50%           0.000000           0.006186\n",
       "75%           0.000000           0.007768\n",
       "max           0.000000           0.352246"
      ]
     },
     "execution_count": 35,
     "metadata": {},
     "output_type": "execute_result"
    }
   ],
   "source": [
    "df[['coupon_depth','pred_tgt_DYN_pre3']].describe()"
   ]
  }
 ],
 "metadata": {
  "kernelspec": {
   "display_name": "Python 2",
   "language": "python",
   "name": "python2"
  },
  "language_info": {
   "codemirror_mode": {
    "name": "ipython",
    "version": 2
   },
   "file_extension": ".py",
   "mimetype": "text/x-python",
   "name": "python",
   "nbconvert_exporter": "python",
   "pygments_lexer": "ipython2",
   "version": "2.7.11"
  }
 },
 "nbformat": 4,
 "nbformat_minor": 0
}
